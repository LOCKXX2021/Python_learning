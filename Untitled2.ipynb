{
 "cells": [
  {
   "cell_type": "code",
   "execution_count": 1,
   "id": "39287c56",
   "metadata": {},
   "outputs": [],
   "source": [
    "import numpy as np\n",
    "np.random.seed(0)\n",
    "def compute_reciprocals(values):\n",
    "    output = np.empty(len(values))\n",
    "    for i in range(len(values)):\n",
    "        output[i] = 1.0/values[i]\n",
    "    return output"
   ]
  },
  {
   "cell_type": "code",
   "execution_count": 2,
   "id": "d63f203d",
   "metadata": {},
   "outputs": [],
   "source": [
    "big_array = np.random.randint(1,100,size = 100000000)"
   ]
  },
  {
   "cell_type": "code",
   "execution_count": 27,
   "id": "a2ac42f0",
   "metadata": {},
   "outputs": [
    {
     "name": "stdout",
     "output_type": "stream",
     "text": [
      "Wall time: 2min 25s\n"
     ]
    },
    {
     "data": {
      "text/plain": [
       "array([0.02222222, 0.02083333, 0.01538462, ..., 0.125     , 0.01428571,\n",
       "       0.05555556])"
      ]
     },
     "execution_count": 27,
     "metadata": {},
     "output_type": "execute_result"
    }
   ],
   "source": [
    "%time compute_reciprocals(big_array)"
   ]
  },
  {
   "cell_type": "code",
   "execution_count": 28,
   "id": "9ef6d86f",
   "metadata": {},
   "outputs": [
    {
     "data": {
      "text/plain": [
       "array([0.02222222, 0.02083333, 0.01538462, ..., 0.125     , 0.01428571,\n",
       "       0.05555556])"
      ]
     },
     "execution_count": 28,
     "metadata": {},
     "output_type": "execute_result"
    }
   ],
   "source": [
    "1/big_array"
   ]
  },
  {
   "cell_type": "code",
   "execution_count": 37,
   "id": "914d6ec2",
   "metadata": {},
   "outputs": [
    {
     "name": "stdout",
     "output_type": "stream",
     "text": [
      "peak memory: 7252.11 MiB, increment: 585.24 MiB\n"
     ]
    }
   ],
   "source": [
    "%memit 1/big_array"
   ]
  },
  {
   "cell_type": "code",
   "execution_count": 33,
   "id": "473608f4",
   "metadata": {
    "scrolled": true
   },
   "outputs": [
    {
     "name": "stdout",
     "output_type": "stream",
     "text": [
      "Collecting memory_profiler\n",
      "  Downloading memory_profiler-0.60.0.tar.gz (38 kB)Note: you may need to restart the kernel to use updated packages.\n",
      "\n",
      "Requirement already satisfied: psutil in d:\\anaconda\\lib\\site-packages (from memory_profiler) (5.8.0)\n",
      "Building wheels for collected packages: memory-profiler\n",
      "  Building wheel for memory-profiler (setup.py): started\n",
      "  Building wheel for memory-profiler (setup.py): finished with status 'done'\n",
      "  Created wheel for memory-profiler: filename=memory_profiler-0.60.0-py3-none-any.whl size=31285 sha256=d1e0eb77d8d350919104197671800547b34d729de0c858ed900a2fdc0f4e506d\n",
      "  Stored in directory: c:\\users\\summer_insert\\appdata\\local\\pip\\cache\\wheels\\0c\\46\\40\\2be5888425b5058e7a3205875fda2ecf2219e515ad89dca951\n",
      "Successfully built memory-profiler\n",
      "Installing collected packages: memory-profiler\n",
      "Successfully installed memory-profiler-0.60.0\n"
     ]
    }
   ],
   "source": [
    "pip install memory_profiler"
   ]
  },
  {
   "cell_type": "code",
   "execution_count": 35,
   "id": "c35ade5f",
   "metadata": {},
   "outputs": [],
   "source": [
    "%load_ext memory_profiler"
   ]
  },
  {
   "cell_type": "code",
   "execution_count": null,
   "id": "20e959b1",
   "metadata": {},
   "outputs": [],
   "source": []
  }
 ],
 "metadata": {
  "kernelspec": {
   "display_name": "Python 3 (ipykernel)",
   "language": "python",
   "name": "python3"
  },
  "language_info": {
   "codemirror_mode": {
    "name": "ipython",
    "version": 3
   },
   "file_extension": ".py",
   "mimetype": "text/x-python",
   "name": "python",
   "nbconvert_exporter": "python",
   "pygments_lexer": "ipython3",
   "version": "3.9.7"
  }
 },
 "nbformat": 4,
 "nbformat_minor": 5
}
