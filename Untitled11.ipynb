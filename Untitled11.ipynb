{
 "cells": [
  {
   "cell_type": "code",
   "execution_count": 2,
   "id": "20049067",
   "metadata": {},
   "outputs": [
    {
     "data": {
      "image/png": "[encoded data removed]",
      "text/plain": [
       "<Figure size 432x288 with 1 Axes>"
      ]
     },
     "metadata": {
      "needs_background": "light"
     },
     "output_type": "display_data"
    }
   ],
   "source": [
    "import time\n",
    "import matplotlib.pyplot as plt\n",
    "import numpy as np\n",
    "from numpy.random import rand\n",
    "\n",
    "if __name__ == '__main__':\n",
    "    # Enable interactive mode.\n",
    "    plt.ion()\n",
    "    # Create a figure and a set of subplots.\n",
    "    figure, ax = plt.subplots(1,2,1)\n",
    "    # return AxesImage object for using.\n",
    "    lines, = ax.plot([], [])\n",
    "    ax.set_autoscaley_on(True)\n",
    "    # ax.set_xlim(min_x, max_x)\n",
    "    ax.grid()\n",
    "    xdata = np.arange(2*np.pi,0.1)\n",
    "    ydata = exp(xdata)\n",
    "    for n in range(600):\n",
    "        # A template of data generate...\n",
    "        xdata = np.append(xdata,(1+0.1*n)*np.pi*2)\n",
    "        ydata = np.exp(xdata)\n",
    "        # update x, y data\n",
    "        lines.set_xdata(xdata)\n",
    "        lines.set_ydata(ydata)\n",
    "        #Need both of these in order to rescale\n",
    "        ax.relim()\n",
    "        ax.autoscale_view()\n",
    "        # draw and flush the figure .\n",
    "        figure.canvas.draw()\n",
    "        figure.canvas.flush_events()\n",
    "        time.sleep(0.01) \n"
   ]
  },
  {
   "cell_type": "code",
   "execution_count": 12,
   "id": "8c0d4bb4",
   "metadata": {},
   "outputs": [
    {
     "data": {
      "text/plain": [
       "array([0.        , 0.6981317 , 1.3962634 , 2.0943951 , 2.7925268 ,\n",
       "       3.4906585 , 4.1887902 , 4.88692191, 5.58505361, 6.28318531,\n",
       "       6.91150384])"
      ]
     },
     "execution_count": 12,
     "metadata": {},
     "output_type": "execute_result"
    }
   ],
   "source": [
    "np.append( np.linspace(0,2*np.pi,10),2*np.pi*(1.1))"
   ]
  },
  {
   "cell_type": "code",
   "execution_count": 20,
   "id": "0372b74a",
   "metadata": {},
   "outputs": [
    {
     "name": "stderr",
     "output_type": "stream",
     "text": [
      "C:\\Users\\SUMMER~1\\AppData\\Local\\Temp/ipykernel_17740/889660084.py:5: RuntimeWarning: overflow encountered in exp\n",
      "  y = np.exp(x)\n",
      "C:\\Users\\SUMMER~1\\AppData\\Local\\Temp/ipykernel_17740/889660084.py:6: RuntimeWarning: invalid value encountered in cos\n",
      "  x_ = y*np.cos(y)\n",
      "C:\\Users\\SUMMER~1\\AppData\\Local\\Temp/ipykernel_17740/889660084.py:7: RuntimeWarning: invalid value encountered in sin\n",
      "  y_ = y*np.sin(y)\n"
     ]
    },
    {
     "data": {
      "image/png": "[encoded data removed]",
      "text/plain": [
       "<Figure size 432x288 with 2 Axes>"
      ]
     },
     "metadata": {
      "needs_background": "light"
     },
     "output_type": "display_data"
    }
   ],
   "source": [
    "import matplotlib.pyplot as plt\n",
    "fig,a =  plt.subplots(2,2)\n",
    "import numpy as np\n",
    "x = np.linspace(0,100000,10000000000)\n",
    "y = np.exp(x)\n",
    "x_ = y*np.cos(y)\n",
    "y_ = y*np.sin(y)\n",
    "#绘制平方函数\n",
    "a[0][0].plot(x,y)\n",
    "a[0][0].set_title('square')\n",
    "#绘制平方根图像\n",
    "a[0][1].plot(x_,y_)\n",
    "a[0][1].set_title('square root')\n",
    "plt.show()"
   ]
  }
 ],
 "metadata": {
  "kernelspec": {
   "display_name": "Python 3 (ipykernel)",
   "language": "python",
   "name": "python3"
  },
  "language_info": {
   "codemirror_mode": {
    "name": "ipython",
    "version": 3
   },
   "file_extension": ".py",
   "mimetype": "text/x-python",
   "name": "python",
   "nbconvert_exporter": "python",
   "pygments_lexer": "ipython3",
   "version": "3.9.7"
  }
 },
 "nbformat": 4,
 "nbformat_minor": 5
}
