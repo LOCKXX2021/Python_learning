{
 "cells": [
  {
   "cell_type": "code",
   "execution_count": 34,
   "id": "f565a7bd",
   "metadata": {},
   "outputs": [],
   "source": [
    "import numpy as np\n",
    "number_list = np.arange(1,86)#所有车库编号列表\n",
    "vert_park = np.array(list(range(1,30)) + list(range(33,62)) )\n",
    "para_park = np.arange(62,86)\n",
    "tilk_park = np.arange(30,33)"
   ]
  },
  {
   "cell_type": "code",
   "execution_count": 52,
   "id": "4bb2f8d1",
   "metadata": {},
   "outputs": [],
   "source": [
    "temp_list = np.arange(1,86)\n",
    "np.random.shuffle(temp_list)\n",
    "open_vector = list(np.sort(temp_list[:30]))#初始化随机可用车位\n",
    "close_vector = list(np.sort(temp_list[31:]))#生成不可用车位列表"
   ]
  },
  {
   "cell_type": "code",
   "execution_count": 53,
   "id": "4357f3c6",
   "metadata": {},
   "outputs": [],
   "source": [
    "# 根据字典的值value获得该值对应的key\n",
    "def get_dict_key(dic, value):\n",
    "    key = list(dic.keys())[list(dic.values()).index(value)]\n",
    "    return key"
   ]
  },
  {
   "cell_type": "code",
   "execution_count": 36,
   "id": "95697244",
   "metadata": {},
   "outputs": [],
   "source": [
    "cars_vector = np.random.randint(0,2,size = (1,30))#生成车辆状态向量"
   ]
  },
  {
   "cell_type": "code",
   "execution_count": 119,
   "id": "54af90b4",
   "metadata": {},
   "outputs": [],
   "source": [
    "low_number = np.concatenate((vert_park[:29],para_park[:12],tilk_park),axis=0)#所有地图下方车位集合 \n",
    "high_number = np.concatenate((vert_park[30:],para_park[13:]),axis = 0)#所有地图上方车位集合"
   ]
  },
  {
   "cell_type": "code",
   "execution_count": 120,
   "id": "b454035d",
   "metadata": {},
   "outputs": [],
   "source": [
    "low_open = np.array([i for i in open_vector if i in low_number ])\n",
    "high_open = np.array([i for i in open_vector if i in high_number ])"
   ]
  },
  {
   "cell_type": "code",
   "execution_count": 226,
   "id": "f9adb739",
   "metadata": {},
   "outputs": [],
   "source": [
    "def judge_func(matirx_array):\n",
    "    great_vector = np.array([np.min(matirx_array[i]) for i in range(len(matirx_array))]).reshape(4,1)\n",
    "    worst_vector = np.array([np.max(matirx_array[i]) for i in range(len(matirx_array))]).reshape(4,1)\n",
    "    great_distance = np.array([matirx_array[i] - great_vector[i] for i in range(4)])\n",
    "    worst_distance = np.array([matirx_array[i] - worst_vector[i] for i in range(4)])\n",
    "    C_g = np.sqrt(np.add.reduce(great_distance**2))\n",
    "    C_w = np.sqrt(np.add.reduce(worst_distance**2))\n",
    "    C = C_w/(C_g + C_w)\n",
    "    result_array = list(enumerate(C))#求得模长，从而得到对应车位\n",
    "    return sorted(result_array, key=lambda x:x[1])[-1][0]##理想点解法"
   ]
  },
  {
   "cell_type": "code",
   "execution_count": 185,
   "id": "1ccb2a1d",
   "metadata": {},
   "outputs": [],
   "source": [
    "def add_lst():\n",
    "    vert = [i for i in low_open if i in vert_park]#下方可用垂直车位\n",
    "    para = [i for i in low_open if i in para_park]#下方可用水平车位\n",
    "    tilk = [i for i in low_open if i in tilk_park]#下方可用倾斜车位\n",
    "    vert_dict = dict(enumerate(vert_park))#生成编号字典\n",
    "    para_dict = dict(enumerate(para_park))\n",
    "    tilk_dict = dict(enumerate(tilk_park))\n",
    "    dt_vert = [2.4*get_dict_key(vert_dict,i) for i in vert ]\n",
    "    dt_para = [5.3*get_dict_key(para_dict,i) for i in para]\n",
    "    dt_tilk = [36.9+2.4*get_dict_key(tilk_dict,i) for i in tilk]\n",
    "    lst1 = dt_vert+dt_para+dt_tilk #获取第一个距离坐标\n",
    "    lst2 = [64.8- i for i in lst1[:-3]] + [64.8,64.8,64.8] #获取距离出口距离坐标\n",
    "    lst3 = [0.5 for i in dt_vert] + [1 for i in dt_para] +[0.8 for i in dt_tilk] #获取类型成本\n",
    "    lst4 = []\n",
    "    counts = 0 \n",
    "    for i in vert:\n",
    "        if i-1 in vert:\n",
    "            counts += 0.5\n",
    "        if i+1 in vert:\n",
    "            counts += 0.5\n",
    "        lst4.append(counts)\n",
    "        counts = 0\n",
    "    for i in para:\n",
    "        if i-1 in para:\n",
    "            counts += 0.5\n",
    "        if i+1 in para:\n",
    "            counts += 0.5\n",
    "        lst4.append(counts)\n",
    "        counts = 0\n",
    "    for i in tilk:\n",
    "        if i-1 in tilk:\n",
    "            counts += 0.5\n",
    "        if i+1 in tilk:\n",
    "            counts += 0.5\n",
    "        lst4.append(counts)\n",
    "        counts = 0\n",
    "    matirx_array = np.array((lst1,lst2,lst3,lst4))#生成评价矩阵\n",
    "    return matirx_array,vert+para+tilk#返回评价矩阵以及据测方案集"
   ]
  },
  {
   "cell_type": "code",
   "execution_count": 188,
   "id": "ad139649",
   "metadata": {},
   "outputs": [
    {
     "name": "stdout",
     "output_type": "stream",
     "text": [
      "应去下方出口\n",
      "应去下方出口\n",
      "应去下方出口\n",
      "应去下方出口\n",
      "应去下方出口\n"
     ]
    },
    {
     "ename": "ValueError",
     "evalue": "list.remove(x): x not in list",
     "output_type": "error",
     "traceback": [
      "\u001b[1;31m---------------------------------------------------------------------------\u001b[0m",
      "\u001b[1;31mValueError\u001b[0m                                Traceback (most recent call last)",
      "\u001b[1;32mC:\\Users\\SUMMER~1\\AppData\\Local\\Temp/ipykernel_16048/4033920163.py\u001b[0m in \u001b[0;36m<module>\u001b[1;34m\u001b[0m\n\u001b[0;32m     14\u001b[0m         \u001b[1;32mif\u001b[0m \u001b[0mlen\u001b[0m\u001b[1;33m(\u001b[0m\u001b[0mlow_open\u001b[0m\u001b[1;33m)\u001b[0m\u001b[1;33m!=\u001b[0m \u001b[1;36m0\u001b[0m\u001b[1;33m:\u001b[0m\u001b[1;33m\u001b[0m\u001b[1;33m\u001b[0m\u001b[0m\n\u001b[0;32m     15\u001b[0m             \u001b[0mnum\u001b[0m \u001b[1;33m=\u001b[0m \u001b[0mjudge_func\u001b[0m\u001b[1;33m(\u001b[0m\u001b[0madd_lst\u001b[0m\u001b[1;33m(\u001b[0m\u001b[1;33m)\u001b[0m\u001b[1;33m[\u001b[0m\u001b[1;36m0\u001b[0m\u001b[1;33m]\u001b[0m\u001b[1;33m)\u001b[0m\u001b[1;31m#判断最优车位\u001b[0m\u001b[1;33m\u001b[0m\u001b[1;33m\u001b[0m\u001b[0m\n\u001b[1;32m---> 16\u001b[1;33m             \u001b[0mopen_vector\u001b[0m\u001b[1;33m.\u001b[0m\u001b[0mremove\u001b[0m\u001b[1;33m(\u001b[0m\u001b[0mnum\u001b[0m\u001b[1;33m)\u001b[0m\u001b[1;33m\u001b[0m\u001b[1;33m\u001b[0m\u001b[0m\n\u001b[0m\u001b[0;32m     17\u001b[0m             \u001b[0mclose_vector\u001b[0m\u001b[1;33m.\u001b[0m\u001b[0mappend\u001b[0m\u001b[1;33m(\u001b[0m\u001b[0mnum\u001b[0m\u001b[1;33m)\u001b[0m\u001b[1;33m\u001b[0m\u001b[1;33m\u001b[0m\u001b[0m\n\u001b[0;32m     18\u001b[0m             \u001b[0mlow_open\u001b[0m \u001b[1;33m=\u001b[0m \u001b[0mnp\u001b[0m\u001b[1;33m.\u001b[0m\u001b[0marray\u001b[0m\u001b[1;33m(\u001b[0m\u001b[1;33m[\u001b[0m\u001b[0mi\u001b[0m \u001b[1;32mfor\u001b[0m \u001b[0mi\u001b[0m \u001b[1;32min\u001b[0m \u001b[0mopen_vector\u001b[0m \u001b[1;32mif\u001b[0m \u001b[0mi\u001b[0m \u001b[1;32min\u001b[0m \u001b[0mlow_number\u001b[0m \u001b[1;33m]\u001b[0m\u001b[1;33m)\u001b[0m\u001b[1;33m\u001b[0m\u001b[1;33m\u001b[0m\u001b[0m\n",
      "\u001b[1;31mValueError\u001b[0m: list.remove(x): x not in list"
     ]
    }
   ],
   "source": [
    "for i in cars_vector[0]:\n",
    "    if i == 0:\n",
    "        remove_points = close_vector.pop()\n",
    "        open_vector.append(remove_points)\n",
    "        low_open = np.array([i for i in open_vector if i in low_number ])\n",
    "        high_open = np.array([i for i in open_vector if i in high_number ])\n",
    "        if remove_points in high_number:\n",
    "            print('应去上方出口')\n",
    "            #astar(1,6,0)\n",
    "        else: \n",
    "            print('应去下方出口')\n",
    "            #astar()\n",
    "    else:\n",
    "        if len(low_open)!= 0:\n",
    "            num = judge_func(add_lst()[0])#判断最优车位\n",
    "            open_vector.remove(num)\n",
    "            close_vector.append(num)\n",
    "            low_open = np.array([i for i in open_vector if i in low_number ])\n",
    "            high_open = np.array([i for i in open_vector if i in high_number ])\n",
    "            print(num)"
   ]
  },
  {
   "cell_type": "code",
   "execution_count": 201,
   "id": "0b9cd153",
   "metadata": {},
   "outputs": [
    {
     "data": {
      "text/plain": [
       "[1,\n",
       " 2,\n",
       " 8,\n",
       " 9,\n",
       " 14,\n",
       " 16,\n",
       " 17,\n",
       " 18,\n",
       " 21,\n",
       " 23,\n",
       " 24,\n",
       " 26,\n",
       " 28,\n",
       " 29,\n",
       " 27,\n",
       " 25,\n",
       " 22,\n",
       " 20,\n",
       " 19,\n",
       " 15,\n",
       " 13,\n",
       " 12,\n",
       " 11,\n",
       " 10,\n",
       " 7,\n",
       " 6,\n",
       " 5,\n",
       " 4,\n",
       " 63,\n",
       " 64,\n",
       " 68,\n",
       " 73,\n",
       " 72,\n",
       " 71,\n",
       " 70,\n",
       " 69,\n",
       " 67,\n",
       " 66,\n",
       " 65,\n",
       " 62,\n",
       " 30,\n",
       " 31,\n",
       " 32]"
      ]
     },
     "execution_count": 201,
     "metadata": {},
     "output_type": "execute_result"
    }
   ],
   "source": [
    "add_lst()[1]"
   ]
  },
  {
   "cell_type": "code",
   "execution_count": 212,
   "id": "0d034b4f",
   "metadata": {},
   "outputs": [
    {
     "data": {
      "text/plain": [
       "array([[0.0, 2.4, 16.8, 19.2, 31.2, 36.0, 38.4, 40.8, 48.0, 52.8,\n",
       "        55.199999999999996, 60.0, 64.8, 5.3, 10.6, 31.799999999999997,\n",
       "        58.3, 53.0, 47.699999999999996, 42.4, 37.1, 26.5, 21.2,\n",
       "        15.899999999999999, 0.0, 36.9, 39.3],\n",
       "       [64.8, 62.4, 48.0, 45.599999999999994, 33.599999999999994,\n",
       "        28.799999999999997, 26.4, 24.0, 16.799999999999997, 12.0,\n",
       "        9.600000000000001, 4.799999999999997, 0.0, 59.5,\n",
       "        54.199999999999996, 33.0, 6.5, 11.799999999999997, 17.1, 22.4,\n",
       "        27.699999999999996, 38.3, 43.599999999999994, 48.9, 64.8, 64.8,\n",
       "        64.8],\n",
       "       [0.5, 0.5, 0.5, 0.5, 0.5, 0.5, 0.5, 0.5, 0.5, 0.5, 0.5, 0.5, 0.5,\n",
       "        1, 1, 1, 1, 1, 1, 1, 1, 1, 1, 1, 1, 0.8, 0.8],\n",
       "       [0.5, 0.5, 0.5, 0.5, 0, 0.5, 1.0, 0.5, 0, 0.5, 0.5, 0, 0, 1.0,\n",
       "        1.0, 1.0, 0.5, 1.0, 1.0, 1.0, 1.0, 1.0, 1.0, 1.0, 0.5, 0.5, 0.5]],\n",
       "      dtype=object)"
      ]
     },
     "execution_count": 212,
     "metadata": {},
     "output_type": "execute_result"
    }
   ],
   "source": [
    "matirx_array"
   ]
  },
  {
   "cell_type": "code",
   "execution_count": 217,
   "id": "30f59a54",
   "metadata": {},
   "outputs": [
    {
     "data": {
      "text/plain": [
       "array([[0.0, 5.76, 282.24, 368.64, 973.4399999999999, 1296.0, 1474.56,\n",
       "        1664.6399999999999, 2304.0, 2787.8399999999997,\n",
       "        3047.0399999999995, 3600.0, 4199.04, 28.09, 112.36,\n",
       "        1011.2399999999998, 3398.89, 2809.0, 2275.2899999999995, 1797.76,\n",
       "        1376.41, 702.25, 449.44, 252.80999999999995, 0.0, 1361.61,\n",
       "        1544.4899999999998],\n",
       "       [4199.04, 3893.7599999999998, 2304.0, 2079.3599999999997,\n",
       "        1128.9599999999996, 829.4399999999998, 696.9599999999999, 576.0,\n",
       "        282.2399999999999, 144.0, 92.16000000000003, 23.039999999999974,\n",
       "        0.0, 3540.25, 2937.6399999999994, 1089.0, 42.25,\n",
       "        139.23999999999992, 292.41, 501.75999999999993,\n",
       "        767.2899999999997, 1466.8899999999999, 1900.9599999999996,\n",
       "        2391.21, 4199.04, 4199.04, 4199.04],\n",
       "       [0.0, 0.0, 0.0, 0.0, 0.0, 0.0, 0.0, 0.0, 0.0, 0.0, 0.0, 0.0, 0.0,\n",
       "        0.25, 0.25, 0.25, 0.25, 0.25, 0.25, 0.25, 0.25, 0.25, 0.25, 0.25,\n",
       "        0.25, 0.09000000000000002, 0.09000000000000002],\n",
       "       [0.25, 0.25, 0.25, 0.25, 0.0, 0.25, 1.0, 0.25, 0.0, 0.25, 0.25,\n",
       "        0.0, 0.0, 1.0, 1.0, 1.0, 0.25, 1.0, 1.0, 1.0, 1.0, 1.0, 1.0, 1.0,\n",
       "        0.25, 0.25, 0.25]], dtype=object)"
      ]
     },
     "execution_count": 217,
     "metadata": {},
     "output_type": "execute_result"
    }
   ],
   "source": [
    "great_distance**2"
   ]
  },
  {
   "cell_type": "code",
   "execution_count": 221,
   "id": "8841457e",
   "metadata": {},
   "outputs": [],
   "source": [
    "great_vector = np.array([np.min(matirx_array[i]) for i in range(len(matirx_array))]).reshape(4,1)\n",
    "worst_vector = np.array([np.max(matirx_array[i]) for i in range(len(matirx_array))]).reshape(4,1)\n",
    "great_distance = matirx_array-great_vector\n",
    "worst_distance = matirx_array-worst_vector\n"
   ]
  },
  {
   "cell_type": "code",
   "execution_count": 230,
   "id": "093753cc",
   "metadata": {},
   "outputs": [
    {
     "data": {
      "text/plain": [
       "4"
      ]
     },
     "execution_count": 230,
     "metadata": {},
     "output_type": "execute_result"
    }
   ],
   "source": [
    "add_lst()[1][judge_func(add_lst()[0])]"
   ]
  }
 ],
 "metadata": {
  "kernelspec": {
   "display_name": "Python 3 (ipykernel)",
   "language": "python",
   "name": "python3"
  },
  "language_info": {
   "codemirror_mode": {
    "name": "ipython",
    "version": 3
   },
   "file_extension": ".py",
   "mimetype": "text/x-python",
   "name": "python",
   "nbconvert_exporter": "python",
   "pygments_lexer": "ipython3",
   "version": "3.9.7"
  }
 },
 "nbformat": 4,
 "nbformat_minor": 5
}
