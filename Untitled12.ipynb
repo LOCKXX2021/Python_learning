{
 "cells": [
  {
   "cell_type": "code",
   "execution_count": 2,
   "id": "ad245d73",
   "metadata": {},
   "outputs": [],
   "source": [
    "import matplotlib.pyplot as plt\n",
    "import numpy as np\n",
    "import easygui as eg\n",
    "\n",
    "\n",
    "\n",
    "\n"
   ]
  },
  {
   "cell_type": "code",
   "execution_count": 3,
   "id": "0f080bb3",
   "metadata": {},
   "outputs": [],
   "source": [
    "# 这种方式是设置全局字体，图例和坐标轴都可以使用中文。但好像会更改默认设置？（也可能是自己修改了配置文件导致的）^M\n",
    "# 设置公式字体^M\n",
    "from matplotlib import rcParams\n",
    "config = {\n",
    "         \"font.family\":'serif',\n",
    "         \"font.size\": 12,\n",
    "         \"mathtext.fontset\":'stix',   # 用于设置Latex字体^M\n",
    "         \"font.serif\": ['SimSun'],  \n",
    "                                 }   # simsun字体中文版就是宋体^M\n",
    "rcParams.update(config)"
   ]
  },
  {
   "cell_type": "code",
   "execution_count": 11,
   "id": "458cda93",
   "metadata": {},
   "outputs": [],
   "source": [
    "# make data^M\n",
    "IO = 'data_lyh.csv'\n",
    "a = pd.read_csv(IO)\n",
    "\n",
    "# plot^M\n"
   ]
  },
  {
   "cell_type": "code",
   "execution_count": 180,
   "id": "d74176c3",
   "metadata": {},
   "outputs": [
    {
     "data": {
      "image/png": "[encoded data removed]",
      "text/plain": [
       "<Figure size 432x288 with 1 Axes>"
      ]
     },
     "metadata": {
      "needs_background": "light"
     },
     "output_type": "display_data"
    },
    {
     "data": {
      "text/plain": [
       "<Figure size 432x288 with 0 Axes>"
      ]
     },
     "metadata": {},
     "output_type": "display_data"
    }
   ],
   "source": [
    "\n",
    "x = np.linspace(20,60,401)\n",
    "y = value_list\n",
    "plt.plot(x, y)\n",
    "\n",
    "\n",
    "\n",
    "\n",
    "plt.title(\"探头处于不同水平位置时光强计的测量数据\")\n",
    "plt.show()\n",
    "plt.savefig(r'Out1.jpg')"
   ]
  },
  {
   "cell_type": "code",
   "execution_count": 16,
   "id": "e4dc6a45",
   "metadata": {},
   "outputs": [],
   "source": [
    "a = a.split('\\t') "
   ]
  },
  {
   "cell_type": "code",
   "execution_count": 174,
   "id": "9b8a8dd1",
   "metadata": {},
   "outputs": [
    {
     "data": {
      "text/plain": [
       "array([20.        , 20.10025063, 20.20050125, 20.30075188, 20.40100251,\n",
       "       20.50125313, 20.60150376, 20.70175439, 20.80200501, 20.90225564,\n",
       "       21.00250627, 21.10275689, 21.20300752, 21.30325815, 21.40350877,\n",
       "       21.5037594 , 21.60401003, 21.70426065, 21.80451128, 21.9047619 ,\n",
       "       22.00501253, 22.10526316, 22.20551378, 22.30576441, 22.40601504,\n",
       "       22.50626566, 22.60651629, 22.70676692, 22.80701754, 22.90726817,\n",
       "       23.0075188 , 23.10776942, 23.20802005, 23.30827068, 23.4085213 ,\n",
       "       23.50877193, 23.60902256, 23.70927318, 23.80952381, 23.90977444,\n",
       "       24.01002506, 24.11027569, 24.21052632, 24.31077694, 24.41102757,\n",
       "       24.5112782 , 24.61152882, 24.71177945, 24.81203008, 24.9122807 ,\n",
       "       25.01253133, 25.11278195, 25.21303258, 25.31328321, 25.41353383,\n",
       "       25.51378446, 25.61403509, 25.71428571, 25.81453634, 25.91478697,\n",
       "       26.01503759, 26.11528822, 26.21553885, 26.31578947, 26.4160401 ,\n",
       "       26.51629073, 26.61654135, 26.71679198, 26.81704261, 26.91729323,\n",
       "       27.01754386, 27.11779449, 27.21804511, 27.31829574, 27.41854637,\n",
       "       27.51879699, 27.61904762, 27.71929825, 27.81954887, 27.9197995 ,\n",
       "       28.02005013, 28.12030075, 28.22055138, 28.32080201, 28.42105263,\n",
       "       28.52130326, 28.62155388, 28.72180451, 28.82205514, 28.92230576,\n",
       "       29.02255639, 29.12280702, 29.22305764, 29.32330827, 29.4235589 ,\n",
       "       29.52380952, 29.62406015, 29.72431078, 29.8245614 , 29.92481203,\n",
       "       30.02506266, 30.12531328, 30.22556391, 30.32581454, 30.42606516,\n",
       "       30.52631579, 30.62656642, 30.72681704, 30.82706767, 30.9273183 ,\n",
       "       31.02756892, 31.12781955, 31.22807018, 31.3283208 , 31.42857143,\n",
       "       31.52882206, 31.62907268, 31.72932331, 31.82957393, 31.92982456,\n",
       "       32.03007519, 32.13032581, 32.23057644, 32.33082707, 32.43107769,\n",
       "       32.53132832, 32.63157895, 32.73182957, 32.8320802 , 32.93233083,\n",
       "       33.03258145, 33.13283208, 33.23308271, 33.33333333, 33.43358396,\n",
       "       33.53383459, 33.63408521, 33.73433584, 33.83458647, 33.93483709,\n",
       "       34.03508772, 34.13533835, 34.23558897, 34.3358396 , 34.43609023,\n",
       "       34.53634085, 34.63659148, 34.73684211, 34.83709273, 34.93734336,\n",
       "       35.03759398, 35.13784461, 35.23809524, 35.33834586, 35.43859649,\n",
       "       35.53884712, 35.63909774, 35.73934837, 35.839599  , 35.93984962,\n",
       "       36.04010025, 36.14035088, 36.2406015 , 36.34085213, 36.44110276,\n",
       "       36.54135338, 36.64160401, 36.74185464, 36.84210526, 36.94235589,\n",
       "       37.04260652, 37.14285714, 37.24310777, 37.3433584 , 37.44360902,\n",
       "       37.54385965, 37.64411028, 37.7443609 , 37.84461153, 37.94486216,\n",
       "       38.04511278, 38.14536341, 38.24561404, 38.34586466, 38.44611529,\n",
       "       38.54636591, 38.64661654, 38.74686717, 38.84711779, 38.94736842,\n",
       "       39.04761905, 39.14786967, 39.2481203 , 39.34837093, 39.44862155,\n",
       "       39.54887218, 39.64912281, 39.74937343, 39.84962406, 39.94987469,\n",
       "       40.05012531, 40.15037594, 40.25062657, 40.35087719, 40.45112782,\n",
       "       40.55137845, 40.65162907, 40.7518797 , 40.85213033, 40.95238095,\n",
       "       41.05263158, 41.15288221, 41.25313283, 41.35338346, 41.45363409,\n",
       "       41.55388471, 41.65413534, 41.75438596, 41.85463659, 41.95488722,\n",
       "       42.05513784, 42.15538847, 42.2556391 , 42.35588972, 42.45614035,\n",
       "       42.55639098, 42.6566416 , 42.75689223, 42.85714286, 42.95739348,\n",
       "       43.05764411, 43.15789474, 43.25814536, 43.35839599, 43.45864662,\n",
       "       43.55889724, 43.65914787, 43.7593985 , 43.85964912, 43.95989975,\n",
       "       44.06015038, 44.160401  , 44.26065163, 44.36090226, 44.46115288,\n",
       "       44.56140351, 44.66165414, 44.76190476, 44.86215539, 44.96240602,\n",
       "       45.06265664, 45.16290727, 45.26315789, 45.36340852, 45.46365915,\n",
       "       45.56390977, 45.6641604 , 45.76441103, 45.86466165, 45.96491228,\n",
       "       46.06516291, 46.16541353, 46.26566416, 46.36591479, 46.46616541,\n",
       "       46.56641604, 46.66666667, 46.76691729, 46.86716792, 46.96741855,\n",
       "       47.06766917, 47.1679198 , 47.26817043, 47.36842105, 47.46867168,\n",
       "       47.56892231, 47.66917293, 47.76942356, 47.86967419, 47.96992481,\n",
       "       48.07017544, 48.17042607, 48.27067669, 48.37092732, 48.47117794,\n",
       "       48.57142857, 48.6716792 , 48.77192982, 48.87218045, 48.97243108,\n",
       "       49.0726817 , 49.17293233, 49.27318296, 49.37343358, 49.47368421,\n",
       "       49.57393484, 49.67418546, 49.77443609, 49.87468672, 49.97493734,\n",
       "       50.07518797, 50.1754386 , 50.27568922, 50.37593985, 50.47619048,\n",
       "       50.5764411 , 50.67669173, 50.77694236, 50.87719298, 50.97744361,\n",
       "       51.07769424, 51.17794486, 51.27819549, 51.37844612, 51.47869674,\n",
       "       51.57894737, 51.67919799, 51.77944862, 51.87969925, 51.97994987,\n",
       "       52.0802005 , 52.18045113, 52.28070175, 52.38095238, 52.48120301,\n",
       "       52.58145363, 52.68170426, 52.78195489, 52.88220551, 52.98245614,\n",
       "       53.08270677, 53.18295739, 53.28320802, 53.38345865, 53.48370927,\n",
       "       53.5839599 , 53.68421053, 53.78446115, 53.88471178, 53.98496241,\n",
       "       54.08521303, 54.18546366, 54.28571429, 54.38596491, 54.48621554,\n",
       "       54.58646617, 54.68671679, 54.78696742, 54.88721805, 54.98746867,\n",
       "       55.0877193 , 55.18796992, 55.28822055, 55.38847118, 55.4887218 ,\n",
       "       55.58897243, 55.68922306, 55.78947368, 55.88972431, 55.98997494,\n",
       "       56.09022556, 56.19047619, 56.29072682, 56.39097744, 56.49122807,\n",
       "       56.5914787 , 56.69172932, 56.79197995, 56.89223058, 56.9924812 ,\n",
       "       57.09273183, 57.19298246, 57.29323308, 57.39348371, 57.49373434,\n",
       "       57.59398496, 57.69423559, 57.79448622, 57.89473684, 57.99498747,\n",
       "       58.0952381 , 58.19548872, 58.29573935, 58.39598997, 58.4962406 ,\n",
       "       58.59649123, 58.69674185, 58.79699248, 58.89724311, 58.99749373,\n",
       "       59.09774436, 59.19799499, 59.29824561, 59.39849624, 59.49874687,\n",
       "       59.59899749, 59.69924812, 59.79949875, 59.89974937, 60.        ])"
      ]
     },
     "execution_count": 174,
     "metadata": {},
     "output_type": "execute_result"
    }
   ],
   "source": [
    "x"
   ]
  },
  {
   "cell_type": "code",
   "execution_count": 21,
   "id": "49e488ac",
   "metadata": {},
   "outputs": [
    {
     "ename": "KeyError",
     "evalue": "0",
     "output_type": "error",
     "traceback": [
      "\u001b[1;31m---------------------------------------------------------------------------\u001b[0m",
      "\u001b[1;31mKeyError\u001b[0m                                  Traceback (most recent call last)",
      "\u001b[1;32mC:\\Users\\SUMMER~1\\AppData\\Local\\Temp/ipykernel_29464/172979841.py\u001b[0m in \u001b[0;36m<module>\u001b[1;34m\u001b[0m\n\u001b[1;32m----> 1\u001b[1;33m \u001b[0mb\u001b[0m\u001b[1;33m[\u001b[0m\u001b[1;36m0\u001b[0m\u001b[1;33m]\u001b[0m\u001b[1;33m\u001b[0m\u001b[1;33m\u001b[0m\u001b[0m\n\u001b[0m",
      "\u001b[1;31mKeyError\u001b[0m: 0"
     ]
    }
   ],
   "source": [
    "b[0]"
   ]
  },
  {
   "cell_type": "code",
   "execution_count": 133,
   "id": "49a5d4ee",
   "metadata": {},
   "outputs": [],
   "source": [
    "temp10 = value_list[6].split('\\n')"
   ]
  },
  {
   "cell_type": "code",
   "execution_count": 135,
   "id": "55b597a0",
   "metadata": {},
   "outputs": [],
   "source": [
    "value_array = np.concatenate((value_array,temp10),axis = 1)"
   ]
  },
  {
   "cell_type": "code",
   "execution_count": 134,
   "id": "00b8c03f",
   "metadata": {},
   "outputs": [],
   "source": [
    "temp10 = np.array(temp10).reshape(41,1)"
   ]
  },
  {
   "cell_type": "code",
   "execution_count": 142,
   "id": "841fef1b",
   "metadata": {},
   "outputs": [],
   "source": [
    "value_array = value_array.reshape( 1,410)"
   ]
  },
  {
   "cell_type": "code",
   "execution_count": 146,
   "id": "ea49da86",
   "metadata": {},
   "outputs": [
    {
     "data": {
      "text/plain": [
       "array(['0.000 ', '0.100 ', '0.200 ', '0.300 ', '0.400 ', '0.500 ',\n",
       "       '0.500 ', '0.600 ', '0.700 ', '0.800 ', '0.080 ', '0.090 ',\n",
       "       '0.100 ', '0.100 ', '0.100 ', '0.100 ', '0.100 ', '0.100 ',\n",
       "       '0.100 ', '0.090 ', '0.090 ', '0.080 ', '0.070 ', '0.060 ',\n",
       "       '0.060 ', '0.060 ', '0.060 ', '0.060 ', '0.050 ', '0.050 ',\n",
       "       '0.060 ', '0.060 ', '0.070 ', '0.080 ', '0.080 ', '0.090 ',\n",
       "       '0.090 ', '0.100 ', '0.110 ', '0.110 ', '0.120 ', '0.120 ',\n",
       "       '0.110 ', '0.110 ', '0.110 ', '0.100 ', '0.100 ', '0.090 ',\n",
       "       '0.080 ', '0.070 ', '0.060 ', '0.050 ', '0.050 ', '0.050 ',\n",
       "       '0.060 ', '0.060 ', '0.060 ', '0.070 ', '0.080 ', '0.090 ',\n",
       "       '0.110 ', '0.120 ', '0.130 ', '0.140 ', '0.140 ', '0.140 ',\n",
       "       '0.140 ', '0.140 ', '0.140 ', '0.140 ', '0.120 ', '0.110 ',\n",
       "       '0.100 ', '0.090 ', '0.080 ', '0.070 ', '0.070 ', '0.060 ',\n",
       "       '0.060 ', '0.060 ', '0.060 ', '0.080 ', '9.000 ', '0.100 ',\n",
       "       '0.120 ', '0.130 ', '0.130 ', '0.150 ', '0.160 ', '0.170 ',\n",
       "       '0.190 ', '0.190 ', '0.180 ', '0.180 ', '0.170 ', '0.160 ',\n",
       "       '0.160 ', '0.140 ', '0.120 ', '0.110 ', '0.080 ', '0.070 ',\n",
       "       '0.060 ', '0.060 ', '0.060 ', '0.070 ', '0.070 ', '0.080 ',\n",
       "       '0.100 ', '0.120 ', '0.180 ', '0.200 ', '0.230 ', '0.250 ',\n",
       "       '0.270 ', '0.280 ', '0.280 ', '0.280 ', '0.280 ', '0.280 ',\n",
       "       '0.250 ', '0.230 ', '0.210 ', '0.180 ', '0.150 ', '0.120 ',\n",
       "       '0.120 ', '0.110 ', '0.080 ', '0.060 ', '0.060 ', '0.080 ',\n",
       "       '0.100 ', '0.130 ', '0.180 ', '0.220 ', '0.220 ', '0.280 ',\n",
       "       '0.330 ', '0.380 ', '0.480 ', '0.500 ', '0.520 ', '0.520 ',\n",
       "       '0.510 ', '0.480 ', '0.480 ', '0.450 ', '0.400 ', '0.340 ',\n",
       "       '0.210 ', '0.150 ', '0.100 ', '0.080 ', '0.070 ', '0.080 ',\n",
       "       '0.080 ', '0.110 ', '0.170 ', '0.260 ', '0.500 ', '0.640 ',\n",
       "       '0.800 ', '0.950 ', '1.100 ', '1.230 ', '1.230 ', '1.350 ',\n",
       "       '1.450 ', '1.480 ', '1.430 ', '1.350 ', '1.220 ', '1.050 ',\n",
       "       '0.910 ', '0.750 ', '0.750 ', '0.560 ', '0.350 ', '0.220 ',\n",
       "       '0.200 ', '0.430 ', '0.860 ', '1.280 ', '1.750 ', '2.490 ',\n",
       "       '2.490 ', '3.550 ', '5.210 ', '6.960 ', '9.040 ', '10.400 ',\n",
       "       '13.150 ', '16.850 ', '21.000 ', '24.000 ', '24.000 ', '25.300 ',\n",
       "       '24.700 ', '22.800 ', '20.500 ', '20.100 ', '19.800 ', '19.500 ',\n",
       "       '19.200 ', '18.700 ', '18.700 ', '18.200 ', '18.500 ', '20.000 ',\n",
       "       '26.900 ', '30.000 ', '30.200 ', '25.800 ', '18.200 ', '11.400 ',\n",
       "       '11.400 ', '8.420 ', '10.380 ', '12.310 ', '5.300 ', '5.290 ',\n",
       "       '3.940 ', '3.590 ', '2.020 ', '0.930 ', '0.930 ', '0.910 ',\n",
       "       '0.750 ', '0.330 ', '0.290 ', '0.430 ', '0.480 ', '0.620 ',\n",
       "       '0.840 ', '0.930 ', '0.930 ', '1.040 ', '1.220 ', '1.280 ',\n",
       "       '1.340 ', '1.290 ', '1.230 ', '1.140 ', '1.040 ', '0.930 ',\n",
       "       '0.930 ', '0.800 ', '0.660 ', '0.530 ', '0.300 ', '0.220 ',\n",
       "       '0.150 ', '0.110 ', '0.090 ', '0.090 ', '0.090 ', '0.100 ',\n",
       "       '0.130 ', '0.180 ', '0.290 ', '0.340 ', '0.390 ', '0.430 ',\n",
       "       '0.460 ', '0.480 ', '0.480 ', '0.490 ', '0.490 ', '0.480 ',\n",
       "       '0.420 ', '0.390 ', '0.330 ', '0.290 ', '0.240 ', '0.200 ',\n",
       "       '0.200 ', '0.160 ', '0.130 ', '0.090 ', '0.070 ', '0.070 ',\n",
       "       '0.080 ', '0.090 ', '0.120 ', '0.140 ', '0.140 ', '0.160 ',\n",
       "       '0.190 ', '0.220 ', '0.270 ', '0.290 ', '0.290 ', '0.290 ',\n",
       "       '0.280 ', '0.260 ', '0.260 ', '0.240 ', '0.210 ', '0.180 ',\n",
       "       '0.130 ', '0.100 ', '0.080 ', '0.070 ', '0.060 ', '0.070 ',\n",
       "       '0.070 ', '0.070 ', '0.070 ', '0.090 ', '0.130 ', '0.140 ',\n",
       "       '0.160 ', '0.190 ', '0.190 ', '0.190 ', '0.190 ', '0.200 ',\n",
       "       '0.200 ', '0.190 ', '0.160 ', '0.150 ', '0.130 ', '0.110 ',\n",
       "       '0.100 ', '0.090 ', '0.090 ', '0.080 ', '0.070 ', '0.060 ',\n",
       "       '0.060 ', '0.060 ', '0.070 ', '0.080 ', '0.080 ', '0.090 ',\n",
       "       '0.090 ', '0.100 ', '0.110 ', '0.120 ', '0.130 ', '0.140 ',\n",
       "       '0.140 ', '0.140 ', '0.130 ', '0.130 ', '0.130 ', '0.120 ',\n",
       "       '0.110 ', '0.100 ', '0.080 ', '0.080 ', '0.070 ', '0.060 ',\n",
       "       '0.060 ', '0.060 ', '0.060 ', '0.060 ', '0.060 ', '0.060 ',\n",
       "       '0.080 ', '0.080 ', '0.090 ', '0.110 ', '0.110 ', '0.110 ',\n",
       "       '0.110 ', '0.120 ', '0.120 ', '0.120 ', '0.120 ', '0.110 ',\n",
       "       '0.110 ', '0.100 ', '0.090 ', '0.080 ', '0.080 ', '0.070 ',\n",
       "       '0.060 ', '0.060 ', '0.060 ', '0.060 ', '0.060 ', '0.070 ',\n",
       "       '0.070 ', '0.080 ', '0.080 ', '0.090 ', '0.090 ', '0.100 ',\n",
       "       '0.110 ', '0.110 ', '0.110 ', '0.100 ', '0.100 ', '0.100 ',\n",
       "       '0.100 ', '0.100 ', '0.090 ', '0.080 ', '0.070 ', '0.070', '0.070',\n",
       "       '0.060', '0.060', '0.060', '0.060', '0.060', '0.060', '0.060'],\n",
       "      dtype='<U7')"
      ]
     },
     "execution_count": 146,
     "metadata": {},
     "output_type": "execute_result"
    }
   ],
   "source": [
    "value_array "
   ]
  }
 ],
 "metadata": {
  "kernelspec": {
   "display_name": "Python 3 (ipykernel)",
   "language": "python",
   "name": "python3"
  },
  "language_info": {
   "codemirror_mode": {
    "name": "ipython",
    "version": 3
   },
   "file_extension": ".py",
   "mimetype": "text/x-python",
   "name": "python",
   "nbconvert_exporter": "python",
   "pygments_lexer": "ipython3",
   "version": "3.9.7"
  }
 },
 "nbformat": 4,
 "nbformat_minor": 5
}
