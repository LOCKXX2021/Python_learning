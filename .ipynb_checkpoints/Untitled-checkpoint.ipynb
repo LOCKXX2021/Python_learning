{
 "cells": [
  {
   "cell_type": "code",
   "execution_count": null,
   "id": "d8a8d84e",
   "metadata": {
    "scrolled": false
   },
   "outputs": [
    {
     "name": "stdout",
     "output_type": "stream",
     "text": [
      "1.76,0.44,6.32\n",
      "6.137752031485142\n",
      "3.52,1.54,6.80\n",
      "6.329138961975791\n",
      "5.20,3.52,6.88\n",
      "6.191090372462673\n",
      "5.92,4.48,5.92\n",
      "6.092618484691126\n",
      "5.28,5.84,4.56\n",
      "5.432936590831886\n",
      "4.56,6.88,3.20\n",
      "5.859692824713596\n",
      "3.92,6.88,2.32\n",
      "6.013318551349164\n",
      "3.36,7.04,1.84\n",
      "6.191090372462673\n",
      "2.96,7.04,1.52\n",
      "6.263545321940282\n",
      "2.64,7.04,1.20\n",
      "6.408993680758313\n"
     ]
    }
   ],
   "source": [
    "from math import sqrt\n",
    "while 1:\n",
    "    a,b,c = eval(input(''))\n",
    "    print( sqrt(a**2 + (b-c)**2) )"
   ]
  }
 ],
 "metadata": {
  "kernelspec": {
   "display_name": "PyCharm (Desktop)",
   "language": "python",
   "name": "pycharm-95223e74"
  },
  "language_info": {
   "codemirror_mode": {
    "name": "ipython",
    "version": 3
   },
   "file_extension": ".py",
   "mimetype": "text/x-python",
   "name": "python",
   "nbconvert_exporter": "python",
   "pygments_lexer": "ipython3",
   "version": "3.9.7"
  }
 },
 "nbformat": 4,
 "nbformat_minor": 5
}
