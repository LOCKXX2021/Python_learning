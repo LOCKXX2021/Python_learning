{
 "cells": [
  {
   "cell_type": "code",
   "execution_count": 17,
   "id": "24438999",
   "metadata": {},
   "outputs": [
    {
     "data": {
      "text/plain": [
       "array([[[1, 2, 3, 7, 8, 9],\n",
       "        [4, 5, 6, 9, 8, 7]],\n",
       "\n",
       "       [[3, 2, 1, 0, 1, 2],\n",
       "        [6, 5, 4, 2, 1, 0]]])"
      ]
     },
     "execution_count": 17,
     "metadata": {},
     "output_type": "execute_result"
    }
   ],
   "source": [
    "import numpy as np\n",
    "x = [[1,2,3],[4,5,6]]\n",
    "y = [[3,2,1],[6,5,4]]\n",
    "z = [[7,8,9],[9,8,7]]\n",
    "h = [[0,1,2],[2,1,0]]\n",
    "temp1 = np.array([x,y])\n",
    "temp2 = np.array([z,h])\n",
    "np.concatenate([temp1,temp2],axis = 2)"
   ]
  },
  {
   "cell_type": "code",
   "execution_count": null,
   "id": "c8c5a9ba",
   "metadata": {},
   "outputs": [],
   "source": []
  }
 ],
 "metadata": {
  "kernelspec": {
   "display_name": "Python 3 (ipykernel)",
   "language": "python",
   "name": "python3"
  },
  "language_info": {
   "codemirror_mode": {
    "name": "ipython",
    "version": 3
   },
   "file_extension": ".py",
   "mimetype": "text/x-python",
   "name": "python",
   "nbconvert_exporter": "python",
   "pygments_lexer": "ipython3",
   "version": "3.9.7"
  }
 },
 "nbformat": 4,
 "nbformat_minor": 5
}
