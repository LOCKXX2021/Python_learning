{
 "cells": [
  {
   "cell_type": "code",
   "execution_count": 10,
   "id": "4707538f",
   "metadata": {},
   "outputs": [],
   "source": [
    "import numpy as np\n",
    "lst = [26.5,42.4,47.7,26.4,31.2,36,43.2,45.6,48]#储存对车距离\n",
    "lst1 = [64.8- i for i in lst]#储存离出口距离\n",
    "lst2 = [1,1,1,0.5,0.5,0.5,0.5,0.5,0.5]\n",
    "lst3 = [1,1,0.5,1,1,1,0.5,0,0.5]\n",
    "matirx_array = np.array((lst,lst1,lst2,lst3))#生成评价矩阵"
   ]
  },
  {
   "cell_type": "code",
   "execution_count": 11,
   "id": "f47302e7",
   "metadata": {},
   "outputs": [],
   "source": [
    "great_vector = np.array([np.min(matirx_array[i]) for i in range(len(matirx_array))]).reshape(4,1)\n",
    "worst_vector = np.array([np.max(matirx_array[i]) for i in range(len(matirx_array))]).reshape(4,1)"
   ]
  },
  {
   "cell_type": "code",
   "execution_count": 12,
   "id": "9059f29c",
   "metadata": {},
   "outputs": [
    {
     "data": {
      "text/plain": [
       "array([[26.5, 42.4, 47.7, 26.4, 31.2, 36. , 43.2, 45.6, 48. ],\n",
       "       [38.3, 22.4, 17.1, 38.4, 33.6, 28.8, 21.6, 19.2, 16.8],\n",
       "       [ 1. ,  1. ,  1. ,  0.5,  0.5,  0.5,  0.5,  0.5,  0.5],\n",
       "       [ 1. ,  1. ,  0.5,  1. ,  1. ,  1. ,  0.5,  0. ,  0.5]])"
      ]
     },
     "execution_count": 12,
     "metadata": {},
     "output_type": "execute_result"
    }
   ],
   "source": [
    "matirx_array"
   ]
  },
  {
   "cell_type": "code",
   "execution_count": 13,
   "id": "8c94e2ac",
   "metadata": {},
   "outputs": [
    {
     "data": {
      "text/plain": [
       "[(7, 65.3),\n",
       " (6, 65.8),\n",
       " (8, 65.8),\n",
       " (2, 66.3),\n",
       " (3, 66.3),\n",
       " (4, 66.3),\n",
       " (5, 66.3),\n",
       " (0, 66.8),\n",
       " (1, 66.8)]"
      ]
     },
     "execution_count": 13,
     "metadata": {},
     "output_type": "execute_result"
    }
   ],
   "source": [
    "result_array = list(enumerate(np.add.reduce(matirx_array,axis = 0)))#求得模长，从而得到对应车位\n",
    "sorted(result_array, key=lambda x:x[1])"
   ]
  },
  {
   "cell_type": "code",
   "execution_count": 14,
   "id": "7d2a174c",
   "metadata": {},
   "outputs": [
    {
     "ename": "NameError",
     "evalue": "name 'new_array' is not defined",
     "output_type": "error",
     "traceback": [
      "\u001b[1;31m---------------------------------------------------------------------------\u001b[0m",
      "\u001b[1;31mNameError\u001b[0m                                 Traceback (most recent call last)",
      "Input \u001b[1;32mIn [14]\u001b[0m, in \u001b[0;36m<cell line: 1>\u001b[1;34m()\u001b[0m\n\u001b[1;32m----> 1\u001b[0m result_array \u001b[38;5;241m=\u001b[39m \u001b[38;5;28mlist\u001b[39m(\u001b[38;5;28menumerate\u001b[39m(np\u001b[38;5;241m.\u001b[39madd\u001b[38;5;241m.\u001b[39mreduce(\u001b[43mnew_array\u001b[49m,axis \u001b[38;5;241m=\u001b[39m \u001b[38;5;241m0\u001b[39m)))\u001b[38;5;66;03m#求得模长，从而得到对应车位\u001b[39;00m\n\u001b[0;32m      2\u001b[0m \u001b[38;5;28msorted\u001b[39m(result_array, key\u001b[38;5;241m=\u001b[39m\u001b[38;5;28;01mlambda\u001b[39;00m x:x[\u001b[38;5;241m1\u001b[39m])\n",
      "\u001b[1;31mNameError\u001b[0m: name 'new_array' is not defined"
     ]
    }
   ],
   "source": [
    "result_array = list(enumerate(np.add.reduce(new_array,axis = 0)))#求得模长，从而得到对应车位\n",
    "sorted(result_array, key=lambda x:x[1])"
   ]
  },
  {
   "cell_type": "code",
   "execution_count": 15,
   "id": "2c492a9c",
   "metadata": {},
   "outputs": [
    {
     "data": {
      "text/plain": [
       "numpy.ndarray"
      ]
     },
     "execution_count": 15,
     "metadata": {},
     "output_type": "execute_result"
    }
   ],
   "source": [
    "type(matirx_array[0])"
   ]
  },
  {
   "cell_type": "code",
   "execution_count": 16,
   "id": "827418b3",
   "metadata": {},
   "outputs": [],
   "source": [
    "great_distance = matirx_array-great_vector\n",
    "worst_distance = matirx_array-worst_vector"
   ]
  },
  {
   "cell_type": "code",
   "execution_count": 17,
   "id": "2871c19f",
   "metadata": {},
   "outputs": [],
   "source": [
    "P_g = np.sqrt(np.add.reduce(great_distance**2))\n",
    "P_w = np.sqrt(np.add.reduce(worst_distance**2))"
   ]
  },
  {
   "cell_type": "code",
   "execution_count": 18,
   "id": "7c4ce8b6",
   "metadata": {},
   "outputs": [
    {
     "data": {
      "text/plain": [
       "[(1, 0.4994574363804207),\n",
       " (5, 0.4996040709555718),\n",
       " (0, 0.4996624430015761),\n",
       " (4, 0.49969353219064433),\n",
       " (3, 0.49979932999753696),\n",
       " (2, 0.4999311908916739),\n",
       " (8, 0.5000669258045765),\n",
       " (6, 0.5001022394572529),\n",
       " (7, 0.500416639180035)]"
      ]
     },
     "execution_count": 18,
     "metadata": {},
     "output_type": "execute_result"
    }
   ],
   "source": [
    "C = P_w/(P_g + P_w)\n",
    "result_array = list(enumerate(C))#求得模长，从而得到对应车位\n",
    "sorted(result_array, key=lambda x:x[1])"
   ]
  }
 ],
 "metadata": {
  "kernelspec": {
   "display_name": "PyCharm (Desktop)",
   "language": "python",
   "name": "pycharm-95223e74"
  },
  "language_info": {
   "codemirror_mode": {
    "name": "ipython",
    "version": 3
   },
   "file_extension": ".py",
   "mimetype": "text/x-python",
   "name": "python",
   "nbconvert_exporter": "python",
   "pygments_lexer": "ipython3",
   "version": "3.9.7"
  }
 },
 "nbformat": 4,
 "nbformat_minor": 5
}
