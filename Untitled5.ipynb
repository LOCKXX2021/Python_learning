{
 "cells": [
  {
   "cell_type": "code",
   "execution_count": 20,
   "id": "4707538f",
   "metadata": {},
   "outputs": [],
   "source": [
    "import numpy as np\n",
    "lst = [26.5,42.4,47.7,26.4,31.2,36,43.2,45.6,48]#储存对车距离\n",
    "lst1 = [64.8- i for i in lst]#储存离出口距离\n",
    "lst2 = [1,1,1,0.5,0.5,0.5,0.5,0.5,0.5]\n",
    "lst3 = [1,1,0.5,1,1,1,0.5,0,0.5]\n",
    "matirx_array = np.array((lst,lst1,lst2,lst3))"
   ]
  },
  {
   "cell_type": "code",
   "execution_count": 14,
   "id": "f38e773e",
   "metadata": {},
   "outputs": [
    {
     "data": {
      "text/plain": [
       "4"
      ]
     },
     "execution_count": 14,
     "metadata": {},
     "output_type": "execute_result"
    }
   ],
   "source": [
    "len(matirx_array)"
   ]
  },
  {
   "cell_type": "code",
   "execution_count": 23,
   "id": "0eee2888",
   "metadata": {},
   "outputs": [],
   "source": [
    "new_array = (np.max(matirx_array)-matirx_array)/(np.max(matirx_array)-np.min(matirx_array))**2"
   ]
  },
  {
   "cell_type": "code",
   "execution_count": 26,
   "id": "bfdda037",
   "metadata": {},
   "outputs": [
    {
     "data": {
      "text/plain": [
       "[(0, 2.6083333333333334),\n",
       " (1, 2.6083333333333334),\n",
       " (3, 2.61875),\n",
       " (4, 2.61875),\n",
       " (5, 2.61875),\n",
       " (2, 2.6187500000000004),\n",
       " (6, 2.629166666666667),\n",
       " (8, 2.629166666666667),\n",
       " (7, 2.6395833333333334)]"
      ]
     },
     "execution_count": 26,
     "metadata": {},
     "output_type": "execute_result"
    }
   ],
   "source": [
    "result_array = list(enumerate(np.add.reduce(new_array,axis = 0)))\n",
    "sorted(result_array, key=lambda x:x[1])"
   ]
  }
 ],
 "metadata": {
  "kernelspec": {
   "display_name": "PyCharm (Desktop)",
   "language": "python",
   "name": "pycharm-95223e74"
  },
  "language_info": {
   "codemirror_mode": {
    "name": "ipython",
    "version": 3
   },
   "file_extension": ".py",
   "mimetype": "text/x-python",
   "name": "python",
   "nbconvert_exporter": "python",
   "pygments_lexer": "ipython3",
   "version": "3.9.7"
  }
 },
 "nbformat": 4,
 "nbformat_minor": 5
}
